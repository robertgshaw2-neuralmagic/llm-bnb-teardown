{
 "cells": [
  {
   "cell_type": "code",
   "execution_count": 1,
   "metadata": {},
   "outputs": [],
   "source": [
    "import os\n",
    "\n",
    "os.environ[\"CUDA_VISIBLE_DEVICES\"]=\"1,2\""
   ]
  },
  {
   "cell_type": "code",
   "execution_count": 2,
   "metadata": {},
   "outputs": [],
   "source": [
    "model_id = \"meta-llama/Llama-2-7b-hf\""
   ]
  },
  {
   "cell_type": "code",
   "execution_count": 3,
   "metadata": {},
   "outputs": [
    {
     "data": {
      "application/vnd.jupyter.widget-view+json": {
       "model_id": "cb279b32b4b643a19d23200c6989d98f",
       "version_major": 2,
       "version_minor": 0
      },
      "text/plain": [
       "Loading checkpoint shards:   0%|          | 0/2 [00:00<?, ?it/s]"
      ]
     },
     "metadata": {},
     "output_type": "display_data"
    }
   ],
   "source": [
    "import torch\n",
    "from transformers import AutoModelForCausalLM\n",
    "\n",
    "llama = AutoModelForCausalLM.from_pretrained(\n",
    "    model_id,\n",
    "    load_in_8bit=True,\n",
    "    torch_dtype=torch.bfloat16,\n",
    "    device_map=\"auto\"\n",
    ")"
   ]
  },
  {
   "cell_type": "code",
   "execution_count": 4,
   "metadata": {},
   "outputs": [
    {
     "name": "stderr",
     "output_type": "stream",
     "text": [
      "Repo card metadata block was not found. Setting CardData to empty.\n"
     ]
    }
   ],
   "source": [
    "from transformers import AutoTokenizer\n",
    "from datasets import load_dataset\n",
    "\n",
    "dataset = load_dataset(\"timdettmers/openassistant-guanaco\")\n",
    "\n",
    "MAX_SEQ_LEN = 512\n",
    "BATCH_SIZE = 1\n",
    "\n",
    "tokenizer = AutoTokenizer.from_pretrained(model_id)\n",
    "tokenizer.add_special_tokens({\"pad_token\":\"<pad>\"})\n",
    "tokenizer.padding_side = 'left'\n",
    "\n",
    "def tokenize_fn(element):\n",
    "    outputs = tokenizer(\n",
    "        element[\"text\"],\n",
    "        truncation=True,\n",
    "        padding=False,\n",
    "        max_length=MAX_SEQ_LEN,\n",
    "        return_overflowing_tokens=False,\n",
    "        return_length=False,\n",
    "    )\n",
    "    return {\n",
    "        \"input_ids\": outputs[\"input_ids\"],\n",
    "        \"attention_mask\": outputs[\"attention_mask\"]\n",
    "    }"
   ]
  },
  {
   "cell_type": "code",
   "execution_count": 5,
   "metadata": {},
   "outputs": [],
   "source": [
    "from transformers import DataCollatorForLanguageModeling\n",
    "\n",
    "train_dataset = dataset[\"train\"]\n",
    "eval_dataset = dataset[\"test\"]\n",
    "\n",
    "tokenized_dataset_train = train_dataset.map(\n",
    "    tokenize_fn,\n",
    "    batched=True,\n",
    "    remove_columns=train_dataset.column_names,\n",
    "    batch_size=BATCH_SIZE,\n",
    ")\n",
    "tokenized_dataset_eval = eval_dataset.shuffle(seed=42).map(\n",
    "    tokenize_fn,\n",
    "    batched=True,\n",
    "    remove_columns=eval_dataset.column_names,\n",
    "    batch_size=BATCH_SIZE,\n",
    ")\n",
    "\n",
    "data_collator = DataCollatorForLanguageModeling(tokenizer=tokenizer, mlm=False)\n",
    "train_dataloader = torch.utils.data.DataLoader(\n",
    "    tokenized_dataset_train, \n",
    "    shuffle=True, \n",
    "    collate_fn=data_collator, \n",
    "    batch_size=BATCH_SIZE,\n",
    ")\n",
    "eval_dataloader = torch.utils.data.DataLoader(\n",
    "    tokenized_dataset_eval.select(range(100)), \n",
    "    collate_fn=data_collator, \n",
    "    batch_size=BATCH_SIZE,\n",
    ")"
   ]
  },
  {
   "cell_type": "code",
   "execution_count": 6,
   "metadata": {},
   "outputs": [],
   "source": [
    "import bitsandbytes as bnb\n",
    "from transformers import get_scheduler\n",
    "\n",
    "LEARNING_RATE = 1.41e-5\n",
    "SCHEDULER = \"linear\"\n",
    "\n",
    "optimizer = bnb.optim.AdamW8bit(llama.parameters(), lr=LEARNING_RATE, betas=(0.9, 0.995)) # add bnb optimizer\n",
    "\n",
    "lr_scheduler = get_scheduler(\n",
    "    name=SCHEDULER,\n",
    "    optimizer=optimizer,\n",
    "    num_warmup_steps=0,\n",
    "    num_training_steps=BATCH_SIZE,\n",
    ")"
   ]
  },
  {
   "cell_type": "code",
   "execution_count": null,
   "metadata": {},
   "outputs": [],
   "source": [
    "import tqdm\n",
    "\n",
    "NUM_EPOCHS = 2\n",
    "\n",
    "progress_bar = tqdm.tqdm(range(NUM_EPOCHS  * len(train_dataloader)))\n",
    "\n",
    "llama.train()\n",
    "\n",
    "for _ in range(2):\n",
    "    total_loss = 0.\n",
    "    l10b_loss = 0.\n",
    "    l10b_avg_loss = 0.\n",
    "\n",
    "    for step, batch in enumerate(train_dataloader):\n",
    "        \n",
    "        outputs = llama(**batch)\n",
    "        loss = outputs.loss\n",
    "        \n",
    "        total_loss += loss.detach().float()\n",
    "        l10b_loss += loss.detach().float()\n",
    "\n",
    "        loss.backward()\n",
    "        optimizer.step()\n",
    "        lr_scheduler.step()\n",
    "        optimizer.zero_grad()\n",
    "\n",
    "        epoch_avg_loss = total_loss.item() / (step + 1)\n",
    "\n",
    "        progress_bar.update(1)\n",
    "        if step % 10 == 0:\n",
    "            l10b_avg_loss = l10b_loss.item() / (10)\n",
    "            l10b_loss = 0.\n",
    "            \n",
    "        progress_bar.set_description(\n",
    "            f\"Epoch Loss: {epoch_avg_loss :0.2f} // L10B Loss: {l10b_avg_loss :0.2f}\"\n",
    "        )"
   ]
  },
  {
   "cell_type": "code",
   "execution_count": null,
   "metadata": {},
   "outputs": [],
   "source": []
  }
 ],
 "metadata": {
  "kernelspec": {
   "display_name": "env",
   "language": "python",
   "name": "python3"
  },
  "language_info": {
   "codemirror_mode": {
    "name": "ipython",
    "version": 3
   },
   "file_extension": ".py",
   "mimetype": "text/x-python",
   "name": "python",
   "nbconvert_exporter": "python",
   "pygments_lexer": "ipython3",
   "version": "3.10.12"
  }
 },
 "nbformat": 4,
 "nbformat_minor": 2
}
